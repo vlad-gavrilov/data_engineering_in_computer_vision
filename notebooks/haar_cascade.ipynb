{
 "cells": [
  {
   "cell_type": "markdown",
   "metadata": {},
   "source": [
    "## Детекция лиц на основе каскада Хаара (Haar Cascade)"
   ]
  },
  {
   "cell_type": "markdown",
   "metadata": {},
   "source": [
    "Импорт библиотеки OpenCV"
   ]
  },
  {
   "cell_type": "code",
   "execution_count": 1,
   "metadata": {},
   "outputs": [],
   "source": [
    "import cv2 as cv"
   ]
  },
  {
   "cell_type": "markdown",
   "metadata": {},
   "source": [
    "Загрузка изображения  \n",
    "Второй параметр метода imread может быть трех видов:\n",
    "- cv.IMREAD_COLOR – цветное изображение\n",
    "- cv.IMREAD_GRAYSCALE – черно-белое изображение\n",
    "- cv.IMREAD_UNCHANGED – неизмененное изображение"
   ]
  },
  {
   "cell_type": "code",
   "execution_count": 2,
   "metadata": {},
   "outputs": [
    {
     "name": "stdout",
     "output_type": "stream",
     "text": [
      "Original dimensions:  (810, 1300, 3)\n"
     ]
    }
   ],
   "source": [
    "img = cv.imread('images/faces.jpg', cv.IMREAD_UNCHANGED)\n",
    "\n",
    "print('Original dimensions: ', img.shape)"
   ]
  },
  {
   "cell_type": "markdown",
   "metadata": {},
   "source": [
    "Уменьшение размеров изображения"
   ]
  },
  {
   "cell_type": "code",
   "execution_count": 3,
   "metadata": {},
   "outputs": [
    {
     "name": "stdout",
     "output_type": "stream",
     "text": [
      "Resized dimensions:  (324, 520, 3)\n"
     ]
    }
   ],
   "source": [
    "scale_coef = 0.4\n",
    "\n",
    "width = int(img.shape[1] * scale_coef)\n",
    "height = int(img.shape[0] * scale_coef)\n",
    "dim = (width, height)\n",
    "\n",
    "resized = cv.resize(img, dim, interpolation=cv.INTER_AREA)\n",
    "\n",
    "print('Resized dimensions: ', resized.shape)"
   ]
  },
  {
   "cell_type": "markdown",
   "metadata": {},
   "source": [
    "Загрузка XML-файлов с данными для разпознавания лиц и глаз"
   ]
  },
  {
   "cell_type": "code",
   "execution_count": 4,
   "metadata": {},
   "outputs": [],
   "source": [
    "face_classifier = cv.CascadeClassifier(cv.data.haarcascades + \"haarcascade_frontalface_default.xml\")\n",
    "eye_classifier  = cv.CascadeClassifier(cv.data.haarcascades + \"haarcascade_eye.xml\")"
   ]
  },
  {
   "cell_type": "markdown",
   "metadata": {},
   "source": [
    "Конвертация изображения из цветного в серое."
   ]
  },
  {
   "cell_type": "code",
   "execution_count": 5,
   "metadata": {},
   "outputs": [],
   "source": [
    "gray = cv.cvtColor(resized, cv.COLOR_BGR2GRAY)"
   ]
  },
  {
   "cell_type": "markdown",
   "metadata": {},
   "source": [
    "Обнаружение лиц на фотографии с помощью метода detectMultiScale.  \n",
    "Параметры:\n",
    "- **gray** – исходное изображение;\n",
    "- **scaleFactor** – определяет то, на сколько будет увеличиваться скользящее окно поиска на каждой итерации. 1.1 означает на 10%, 1.05 на 5% и т.д. Чем больше это значение, тем быстрее работает алгоритм;\n",
    "- **minNeighbors** — Чем больше это значение, тем более параноидальным будет поиск и тем чаще он будет пропускать реальные лица, считая, что это ложное срабатывание. Оптимальное значение 3-6;\n",
    "- **minSize** – минимальный размер лица на фото. 30 на 30 обычно вполне достаточно."
   ]
  },
  {
   "cell_type": "code",
   "execution_count": 6,
   "metadata": {},
   "outputs": [],
   "source": [
    "faces = face_classifier.detectMultiScale(gray, scaleFactor=1.05, minNeighbors=6, minSize=(30, 30))"
   ]
  },
  {
   "cell_type": "markdown",
   "metadata": {},
   "source": [
    "Если лиц не найдено, вывод сообщения \"No faces found\"."
   ]
  },
  {
   "cell_type": "code",
   "execution_count": 7,
   "metadata": {},
   "outputs": [],
   "source": [
    "if faces is ():\n",
    "    print(\"No faces found\")"
   ]
  },
  {
   "cell_type": "markdown",
   "metadata": {},
   "source": [
    "Итерация по всем найденным лицам и обведение их в прямоугольник. Для каждого найденного лица поиск его глаз."
   ]
  },
  {
   "cell_type": "code",
   "execution_count": 8,
   "metadata": {},
   "outputs": [],
   "source": [
    "for (x,y,w,h) in faces:\n",
    "    cv.rectangle(resized, (x,y), (x+w,y+h), (0,255,0), 2)\n",
    "    cv.imshow('img', resized)\n",
    "    cv.waitKey(0)\n",
    "    roi_gray = gray[y:y+h, x:x+w]\n",
    "    roi_color = resized[y:y+h, x:x+w]\n",
    "    eyes = eye_classifier.detectMultiScale(roi_gray)\n",
    "    for (ex,ey,ew,eh) in eyes:\n",
    "        cv.rectangle(roi_color, (ex,ey), (ex+ew,ey+eh), (255,255,0), 2)\n",
    "        cv.imshow('img', resized)\n",
    "        cv.waitKey(0)"
   ]
  },
  {
   "cell_type": "markdown",
   "metadata": {},
   "source": [
    "Конец обнаружения."
   ]
  },
  {
   "cell_type": "code",
   "execution_count": 9,
   "metadata": {},
   "outputs": [
    {
     "name": "stdout",
     "output_type": "stream",
     "text": [
      "Detection is complete!\n"
     ]
    }
   ],
   "source": [
    "print('Detection is complete!')\n",
    "cv.waitKey(0)\n",
    "cv.destroyAllWindows()"
   ]
  }
 ],
 "metadata": {
  "kernelspec": {
   "display_name": "Python 3",
   "language": "python",
   "name": "python3"
  },
  "language_info": {
   "codemirror_mode": {
    "name": "ipython",
    "version": 3
   },
   "file_extension": ".py",
   "mimetype": "text/x-python",
   "name": "python",
   "nbconvert_exporter": "python",
   "pygments_lexer": "ipython3",
   "version": "3.7.3"
  }
 },
 "nbformat": 4,
 "nbformat_minor": 4
}
